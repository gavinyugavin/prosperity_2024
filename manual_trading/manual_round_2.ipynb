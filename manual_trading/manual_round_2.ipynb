{
 "cells": [
  {
   "cell_type": "code",
   "execution_count": 1,
   "metadata": {},
   "outputs": [],
   "source": [
    "# pizza : 0\n",
    "# wasabi : 1\n",
    "# snowball : 2\n",
    "# seashell : 3\n",
    "# row a column b is the number of b you get for one a\n",
    "trading_table = [\n",
    "    [1.00, 0.48, 1.52, 0.71],\n",
    "    [2.05, 1.00, 3.26, 1.56],\n",
    "    [0.64, 0.30, 1.00, 0.46],\n",
    "    [1.41, 0.61, 2.08, 1.00],\n",
    "]"
   ]
  },
  {
   "cell_type": "code",
   "execution_count": 4,
   "metadata": {},
   "outputs": [],
   "source": [
    "def calculate_profit(i, j, k, l):\n",
    "    return trading_table[3][i] * trading_table[i][j] * trading_table[j][k] * trading_table[k][l] * trading_table[l][3]"
   ]
  },
  {
   "cell_type": "code",
   "execution_count": 2,
   "metadata": {},
   "outputs": [],
   "source": [
    "current_item = 3\n",
    "best_profit = 1\n",
    "best_trades = []\n",
    "for i in range(0,3):\n",
    "    for j in range(0,3):\n",
    "        for k in range(0,3):\n",
    "            for l in range(0,3):\n",
    "                profit = trading_table[3][i] * trading_table[i][j] * trading_table[j][k] * trading_table[k][l] * trading_table[l][3]\n",
    "                if profit > best_profit:\n",
    "                    best_profit = profit\n",
    "                    best_trades = [i,j,k,l]"
   ]
  },
  {
   "cell_type": "code",
   "execution_count": 3,
   "metadata": {},
   "outputs": [
    {
     "name": "stdout",
     "output_type": "stream",
     "text": [
      "1.055808\n",
      "[0, 0, 0, 1]\n"
     ]
    }
   ],
   "source": [
    "print(best_profit)\n",
    "print(best_trades)"
   ]
  },
  {
   "cell_type": "code",
   "execution_count": 9,
   "metadata": {},
   "outputs": [
    {
     "data": {
      "text/plain": [
       "1.055808"
      ]
     },
     "execution_count": 9,
     "metadata": {},
     "output_type": "execute_result"
    }
   ],
   "source": [
    "calculate_profit(0, 0, 0, 1)"
   ]
  },
  {
   "cell_type": "code",
   "execution_count": 10,
   "metadata": {},
   "outputs": [
    {
     "data": {
      "text/plain": [
       "1.055808"
      ]
     },
     "execution_count": 10,
     "metadata": {},
     "output_type": "execute_result"
    }
   ],
   "source": [
    "calculate_profit(3, 3, 0, 1)"
   ]
  },
  {
   "cell_type": "code",
   "execution_count": 12,
   "metadata": {},
   "outputs": [
    {
     "data": {
      "text/plain": [
       "1.055808"
      ]
     },
     "execution_count": 12,
     "metadata": {},
     "output_type": "execute_result"
    }
   ],
   "source": [
    "1.41 * 0.48 * 1.56"
   ]
  },
  {
   "cell_type": "code",
   "execution_count": null,
   "metadata": {},
   "outputs": [],
   "source": []
  }
 ],
 "metadata": {
  "kernelspec": {
   "display_name": "prosperity_2024",
   "language": "python",
   "name": "python3"
  },
  "language_info": {
   "codemirror_mode": {
    "name": "ipython",
    "version": 3
   },
   "file_extension": ".py",
   "mimetype": "text/x-python",
   "name": "python",
   "nbconvert_exporter": "python",
   "pygments_lexer": "ipython3",
   "version": "3.11.8"
  }
 },
 "nbformat": 4,
 "nbformat_minor": 2
}
