{
 "cells": [
  {
   "cell_type": "code",
   "execution_count": 5,
   "metadata": {},
   "outputs": [],
   "source": [
    "import numpy as np"
   ]
  },
  {
   "cell_type": "code",
   "execution_count": 1,
   "metadata": {},
   "outputs": [],
   "source": [
    "multipliers = [[24, 70, 41, 21, 60],\n",
    "               [47, 82, 87, 80, 35],\n",
    "               [73, 89, 100, 90, 17],\n",
    "               [77, 83, 85, 79, 55],\n",
    "               [12, 27, 52, 15, 30]]\n",
    "\n",
    "hunters = [[2, 4, 3, 2, 4],\n",
    "           [3, 5, 5, 5, 3],\n",
    "           [4, 5, 8, 7, 2],\n",
    "           [5, 5, 5, 5, 4],\n",
    "           [2, 3, 4, 2, 3]]"
   ]
  },
  {
   "cell_type": "code",
   "execution_count": 8,
   "metadata": {},
   "outputs": [],
   "source": [
    "prize_per_hunter = [[],\n",
    "                    [],\n",
    "                    [],\n",
    "                    [],\n",
    "                    []]\n",
    "\n",
    "for i in range(5):\n",
    "    for j in range(5):\n",
    "        prize_per_hunter[i].append((multipliers[i][j] * 7500)/(hunters[i][j]+1))"
   ]
  },
  {
   "cell_type": "code",
   "execution_count": 9,
   "metadata": {},
   "outputs": [
    {
     "data": {
      "text/plain": [
       "[[60000.0, 105000.0, 76875.0, 52500.0, 90000.0],\n",
       " [88125.0, 102500.0, 108750.0, 100000.0, 65625.0],\n",
       " [109500.0, 111250.0, 83333.33333333333, 84375.0, 42500.0],\n",
       " [96250.0, 103750.0, 106250.0, 98750.0, 82500.0],\n",
       " [30000.0, 50625.0, 78000.0, 37500.0, 56250.0]]"
      ]
     },
     "execution_count": 9,
     "metadata": {},
     "output_type": "execute_result"
    }
   ],
   "source": [
    "prize_per_hunter"
   ]
  },
  {
   "cell_type": "code",
   "execution_count": 17,
   "metadata": {},
   "outputs": [
    {
     "name": "stdout",
     "output_type": "stream",
     "text": [
      "(25,)\n"
     ]
    },
    {
     "data": {
      "text/plain": [
       "array([108750., 109500., 111250.])"
      ]
     },
     "execution_count": 17,
     "metadata": {},
     "output_type": "execute_result"
    }
   ],
   "source": [
    "np_prize_per_hunter = np.array(prize_per_hunter)\n",
    "np_prize_per_hunter = np_prize_per_hunter.reshape(25)\n",
    "np_prize_per_hunter.sort()\n",
    "np_prize_per_hunter[-3:]"
   ]
  },
  {
   "cell_type": "code",
   "execution_count": null,
   "metadata": {},
   "outputs": [],
   "source": []
  }
 ],
 "metadata": {
  "kernelspec": {
   "display_name": "prosperity_2024",
   "language": "python",
   "name": "python3"
  },
  "language_info": {
   "codemirror_mode": {
    "name": "ipython",
    "version": 3
   },
   "file_extension": ".py",
   "mimetype": "text/x-python",
   "name": "python",
   "nbconvert_exporter": "python",
   "pygments_lexer": "ipython3",
   "version": "3.11.8"
  }
 },
 "nbformat": 4,
 "nbformat_minor": 2
}
