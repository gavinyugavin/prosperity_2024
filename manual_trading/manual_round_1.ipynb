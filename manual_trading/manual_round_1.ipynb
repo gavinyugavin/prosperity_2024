{
 "cells": [
  {
   "cell_type": "code",
   "execution_count": 3,
   "metadata": {},
   "outputs": [],
   "source": [
    "from random import random"
   ]
  },
  {
   "cell_type": "code",
   "execution_count": 4,
   "metadata": {},
   "outputs": [],
   "source": [
    "best_profit = 0\n",
    "best_x1 = 0\n",
    "best_x2 = 0\n",
    "n = 1000000\n",
    "\n",
    "for i in range(n):\n",
    "    x1 = random()\n",
    "    x2 = random()\n",
    "    profit = x1**2 * (1-x1) + (x2**2 - x1**2) * (1-x2)\n",
    "    if profit > best_profit:\n",
    "        best_profit = profit\n",
    "        best_x1 = x1\n",
    "        best_x2 = x2"
   ]
  },
  {
   "cell_type": "code",
   "execution_count": 5,
   "metadata": {},
   "outputs": [
    {
     "name": "stdout",
     "output_type": "stream",
     "text": [
      "Best profit: 0.20415823727345145\n",
      "Best x1: 0.5220055447759558\n",
      "Best x2: 0.7820956289976148\n"
     ]
    }
   ],
   "source": [
    "print(f\"Best profit: {best_profit}\")\n",
    "print(f\"Best x1: {best_x1}\")\n",
    "print(f\"Best x2: {best_x2}\")"
   ]
  }
 ],
 "metadata": {
  "kernelspec": {
   "display_name": "for_fun",
   "language": "python",
   "name": "python3"
  },
  "language_info": {
   "codemirror_mode": {
    "name": "ipython",
    "version": 3
   },
   "file_extension": ".py",
   "mimetype": "text/x-python",
   "name": "python",
   "nbconvert_exporter": "python",
   "pygments_lexer": "ipython3",
   "version": "3.10.11"
  }
 },
 "nbformat": 4,
 "nbformat_minor": 2
}
